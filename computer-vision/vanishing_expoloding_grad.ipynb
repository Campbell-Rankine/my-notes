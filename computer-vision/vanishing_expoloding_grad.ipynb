{
 "cells": [
  {
   "cell_type": "code",
   "execution_count": 2,
   "metadata": {},
   "outputs": [],
   "source": [
    "import torch as T\n",
    "import torch.nn as nn\n",
    "import torch.nn.functional as F\n",
    "import numpy as np\n",
    "from torch.nn.parameter import Parameter\n",
    "import torchvision\n",
    "import cv2 as cv\n",
    "from typing import Optional"
   ]
  },
  {
   "cell_type": "markdown",
   "metadata": {},
   "source": [
    "**Computer Vision Modules to Minimize Chance of Exploding / Vanishing Gradients**\n",
    "---"
   ]
  },
  {
   "cell_type": "code",
   "execution_count": 3,
   "metadata": {},
   "outputs": [],
   "source": [
    "# Equalized / Scaled 2D Convolution module\n",
    "class EqualizedLR_Conv2d(nn.Module):\n",
    "    \"\"\"\n",
    "    Equalized LR Convolutional 2d cell. Used to prevent exploding gradients\n",
    "    \"\"\"\n",
    "\n",
    "    def __init__(self, in_ch, out_ch, kernel_size, stride=1, padding=0):\n",
    "        super().__init__()\n",
    "        self.padding = padding\n",
    "        self.stride = stride\n",
    "        self.scale = np.sqrt(2 / (in_ch * kernel_size[0] * kernel_size[1]))\n",
    "\n",
    "        self.weight = Parameter(T.Tensor(out_ch, in_ch, *kernel_size))\n",
    "        self.bias = Parameter(T.Tensor(out_ch))\n",
    "\n",
    "        nn.init.normal_(self.weight)\n",
    "        nn.init.zeros_(self.bias)\n",
    "\n",
    "    def forward(self, x):\n",
    "        return F.conv2d(\n",
    "            x, self.weight * self.scale, self.bias, self.stride, self.padding\n",
    "        )"
   ]
  },
  {
   "cell_type": "code",
   "execution_count": null,
   "metadata": {},
   "outputs": [],
   "source": [
    "# Pixel-wise normalization of image\n",
    "class Pixel_norm(nn.Module):\n",
    "    \"\"\"\n",
    "    Pixel wise normalization\n",
    "    \"\"\"\n",
    "\n",
    "    def __init__(self):\n",
    "        super().__init__()\n",
    "\n",
    "    def forward(self, a):\n",
    "        b = a / T.sqrt(T.sum(a**2, dim=1, keepdim=True) + 10e-8)\n",
    "        return b"
   ]
  },
  {
   "cell_type": "code",
   "execution_count": null,
   "metadata": {},
   "outputs": [],
   "source": [
    "# batch-wise standardization\n",
    "class Minibatch_std(nn.Module):\n",
    "    def __init__(self):\n",
    "        super().__init__()\n",
    "\n",
    "    def forward(self, x):\n",
    "        size = list(x.size())\n",
    "        size[1] = 1\n",
    "\n",
    "        std = T.std(x, dim=0)\n",
    "        mean = T.mean(std)\n",
    "        return T.cat((x, mean.repeat(size)), dim=1)"
   ]
  },
  {
   "cell_type": "code",
   "execution_count": null,
   "metadata": {},
   "outputs": [],
   "source": [
    "# Convert an RGB image to a binary image (reduce 3rd dim)\n",
    "class fromRGB(nn.Module):\n",
    "    \"\"\"\n",
    "    Learned conversion of a 3 channel image to a 1 channel image\n",
    "    \"\"\"\n",
    "\n",
    "    def __init__(self, in_c, out_c):\n",
    "        super().__init__()\n",
    "        self.cvt = EqualizedLR_Conv2d(in_c, out_c, (1, 1), stride=(1, 1))\n",
    "        self.relu = nn.LeakyReLU(0.2)\n",
    "\n",
    "    def forward(self, x):\n",
    "        x = self.cvt(x)\n",
    "        return self.relu(x)\n",
    "\n",
    "# Convert binary image to RGB image (learned expansion of 3rd dim)\n",
    "class toRGB(nn.Module):\n",
    "    \"\"\"\n",
    "    Learned conversion of a 1 channel image to a 3 channel image\n",
    "    \"\"\"\n",
    "\n",
    "    def __init__(self, in_c, out_c):\n",
    "        super().__init__()\n",
    "        self.cvt = EqualizedLR_Conv2d(in_c, out_c, (1, 1), stride=(1, 1))\n",
    "\n",
    "    def forward(self, x):\n",
    "        return self.cvt(x)"
   ]
  }
 ],
 "metadata": {
  "kernelspec": {
   "display_name": "AI-3.10",
   "language": "python",
   "name": "python3"
  },
  "language_info": {
   "codemirror_mode": {
    "name": "ipython",
    "version": 3
   },
   "file_extension": ".py",
   "mimetype": "text/x-python",
   "name": "python",
   "nbconvert_exporter": "python",
   "pygments_lexer": "ipython3",
   "version": "3.10.14"
  }
 },
 "nbformat": 4,
 "nbformat_minor": 2
}
