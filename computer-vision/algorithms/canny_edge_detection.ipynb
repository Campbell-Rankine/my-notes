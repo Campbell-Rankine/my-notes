{
 "cells": [
  {
   "cell_type": "code",
   "execution_count": 8,
   "metadata": {},
   "outputs": [],
   "source": [
    "##- standard imports -##\n",
    "import math\n",
    "import numpy as np\n",
    "import sklearn as sk\n",
    "import pandas as pd\n",
    "import matplotlib.pyplot as plt\n",
    "import cv2 as cv\n",
    "import os\n",
    "from typing import Optional\n",
    "\n",
    "##- Additional Imports -##\n",
    "import collections\n",
    "from sklearn.cluster import KMeans\n",
    "from collections import Counter\n",
    "%matplotlib inline\n",
    "\n",
    "path_to_ims = \"../images\""
   ]
  },
  {
   "cell_type": "markdown",
   "metadata": {},
   "source": [
    "**Canny Edge Detection**\n",
    "---\n",
    "\n",
    "Slightly optimized version of sobel filtering that guarantees certain outcomes / properties for the edge. We begin similarly to the sobel filter operation, where we need to add noise to ensure that we won't detect an edge that exists as a result of noise in the image. We'll use standard gaussian noise for our addition.\n",
    "\n",
    "  - $\\epsilon \\sim \\mathcal{N} (0, 1)$ : For an image normalized to $[0,1]$\n",
    "  - $0 \\geq \\forall{x}, \\forall{y} \\leq 1$ in Image I : $x + \\epsilon, y+ \\epsilon$\n",
    "\n",
    "**Sobel Filter**\n",
    "---\n",
    "\n",
    "Operation that measures the X and Y colour gradients of the image, and combines the two gradients into the final resultant gradient. Then we can use the following formula's to calculate the magnitude and direction of the edges:\n",
    "\n",
    "  - $G = \\sqrt{K(X)^2 + K(Y)^2}$\n",
    "  - $\\Theta(e) = arctan(\\frac{K(Y)}{K(X)})$\n",
    "\n",
    "**Areas of Improvement / Extra Steps**\n",
    "---\n",
    "\n",
    "Notably missing from the sobel filtering algorithm is non-maximum suppression of the output (guarantees us hard edges and less chance of noise dictating the edge). Essentially we filter and assign values to all points we aren't sure are edges, and we define thresholds for what constitutes an edge."
   ]
  },
  {
   "cell_type": "code",
   "execution_count": 9,
   "metadata": {},
   "outputs": [],
   "source": [
    "# helper functions\n",
    "def print_graphs(images, bins=256):\n",
    "    ### - TODO: Add x, y labels, and graph label for each plot - ###\n",
    "    fig1, ax1 = plt.subplots(len(images))\n",
    "    for i, x in enumerate(images):\n",
    "        ax1[i].hist(x.ravel(),bins,[0,bins])\n",
    "\n",
    "def pad_image(img: np.ndarray, kernel: list[int]) -> np.ndarray:\n",
    "    # Apply padding to the image\n",
    "    p_h = int((kernel[0] - 1) / 2)\n",
    "    p_w = int((kernel[1] - 1) / 2)\n",
    "    padded_image = np.zeros((img.shape[0] + (2 * p_h), img.shape[1] + (2 * p_w)))\n",
    "    padded_image[p_h:padded_image.shape[0] - p_h, p_w:padded_image.shape[1] - p_w] = img\n",
    "    return padded_image\n",
    "\n",
    "def get_image_xgrad(outputH: np.ndarray, img: np.ndarray, padded_image: np.ndarray, kernel: list[int]):\n",
    "    for i in range(img.shape[0]):\n",
    "        for j in range(img.shape[1]):\n",
    "            try:\n",
    "                outputH[i][j] = abs(np.sum(np.array([1,0,-1]).T @ (np.array([1,2,1]) @ padded_image[i:i+kernel[0], j:j+kernel[1]]))) #Decomposability of sobel filters\n",
    "            except ValueError: ###was useful in border handling\n",
    "                print(i,j)\n",
    "    return outputH\n",
    "\n",
    "def get_image_ygrad(outputV: np.ndarray, img: np.ndarray, padded_image: np.ndarray, kernel: list[int]):\n",
    "    for i in range(img.shape[0]):\n",
    "        for j in range(img.shape[1]):\n",
    "            try:\n",
    "                outputV[i][j] = abs(np.sum(np.array([1,2,1]).T @ (np.array([-1,0,1]) @ padded_image[i:i+kernel[0], j:j+kernel[1]]))) #Decomposability of sobel filters\n",
    "            except ValueError: ###was useful in border handling\n",
    "                print(i,j)\n",
    "    return outputV\n",
    " \n",
    "#sobel function\n",
    "def Sobel_Filter(img, kernel=[3,3]): #This function will kind of just assume 3x3\n",
    "    outputH = np.zeros(img.shape)\n",
    "    outputV = np.zeros(img.shape) #We have 3 outputs, this function will display histograms for Horizontal and vertical\n",
    "    output = np.zeros(img.shape)\n",
    "    \n",
    "    ###Smooth images###\n",
    "    img = cv.GaussianBlur(img, (kernel[0],kernel[0]), np.std(img)/8) # The amount of gaussian blur can directly determine the sharpness of the sobel filter edge\n",
    "    \n",
    "    ###Unsure of if this is useful for edge detection but since we apply the same convolution algorithm:###\n",
    "    ###Convert to padded image###\n",
    "    padded_image = pad_image(img, kernel)\n",
    "    \n",
    "    #Convolve with filters Horizontal\n",
    "    outputH = get_image_xgrad(outputH, img, padded_image, kernel)\n",
    "    outputV = get_image_ygrad(outputV, img, padded_image, kernel)\n",
    "    \n",
    "    assert(outputH.shape == img.shape and outputV.shape == img.shape) #quality of life\n",
    "    \n",
    "    ###Normalize###\n",
    "    outputHN = (outputH-np.min(outputH)) / (np.max(outputH)-np.min(outputH))\n",
    "    outputVN = (outputV-np.min(outputV)) / (np.max(outputV)-np.min(outputV))\n",
    "    \n",
    "    print('Horizontal Range: ' + str((np.min(outputHN), np.max(outputHN))))\n",
    "    print('Vertical Range: ' + str((np.min(outputVN), np.max(outputVN))))\n",
    "    \n",
    "    ###Merge horizontal and vertical###\n",
    "    output = np.sqrt(outputH**2 + outputV**2)\n",
    "    \n",
    "    outputN = (output-np.min(output)) / (np.max(output)-np.min(output))\n",
    "    angles = np.degrees(np.arctan(outputVN / outputHN))\n",
    "    \n",
    "    return [outputHN*255, outputVN*255, outputN*255, angles] # scale back to image output"
   ]
  },
  {
   "cell_type": "markdown",
   "metadata": {},
   "source": [
    "**Thresholding and Non-Maximum Suppression**\n",
    "---\n",
    "\n",
    "These algorithms depend on normalizing the thresholds to within the bounds of the image, and assigning weak and strong pixel values for edges, that way if we decide on an edge we can give it a pixel value depending on how confident we are that pixel i, j is an edge.\n",
    "\n",
    "Additionally we can assert to ourselves that a weak pixel on an edge is part of the edge by checking for other strong pixels around the weak pixel. This will aim to transform as many of our weak pixels into strong pixels. If we find a strong pixel on a weak edge, assign the pixel to the strong edge value."
   ]
  },
  {
   "cell_type": "code",
   "execution_count": 10,
   "metadata": {},
   "outputs": [],
   "source": [
    "# Non-maximum suppression algorithm\n",
    "def non_max_suppression(img, degrees):\n",
    "    M, N = img.shape\n",
    "    Z = np.zeros((M,N), dtype=np.int32)\n",
    "    angle = degrees * 180. / np.pi\n",
    "    angle[angle < 0] += 180\n",
    "\n",
    "    for i in range(1,M-1):\n",
    "        for j in range(1,N-1):\n",
    "            try:\n",
    "                q = 255\n",
    "                r = 255\n",
    "                \n",
    "               #angle 0\n",
    "                if (0 <= angle[i,j] < 22.5) or (157.5 <= angle[i,j] <= 180):\n",
    "                    q = img[i, j+1]\n",
    "                    r = img[i, j-1]\n",
    "                #angle 45\n",
    "                elif (22.5 <= angle[i,j] < 67.5):\n",
    "                    q = img[i+1, j-1]\n",
    "                    r = img[i-1, j+1]\n",
    "                #angle 90\n",
    "                elif (67.5 <= angle[i,j] < 112.5):\n",
    "                    q = img[i+1, j]\n",
    "                    r = img[i-1, j]\n",
    "                #angle 135\n",
    "                elif (112.5 <= angle[i,j] < 157.5):\n",
    "                    q = img[i-1, j-1]\n",
    "                    r = img[i+1, j+1]\n",
    "\n",
    "                if (img[i,j] >= q) and (img[i,j] >= r):\n",
    "                    Z[i,j] = img[i,j]\n",
    "                else:\n",
    "                    Z[i,j] = 0\n",
    "\n",
    "            except IndexError as e:\n",
    "                pass\n",
    "    \n",
    "    return Z\n",
    "\n",
    "def threshold(img, high_threshold: Optional[float]=0.05, low_threshold: Optional[float]=0.01, strong_pix: Optional[float]=255., weak_pix: Optional[float] = 75):\n",
    "    # apply thresholding to img\n",
    "    high_threshold = high_threshold;\n",
    "    low_threshold = low_threshold;\n",
    "\n",
    "    M, N = img.shape\n",
    "    res = np.zeros((M,N), dtype=np.int32)\n",
    "\n",
    "    weak = np.int32(weak_pix)\n",
    "    strong = np.int32(strong_pix)\n",
    "\n",
    "    strong_i, strong_j = np.where(img >= high_threshold)\n",
    "    zeros_i, zeros_j = np.where(img < low_threshold) #apply if needed\n",
    "\n",
    "    weak_i, weak_j = np.where((img <= high_threshold) & (img >= low_threshold))\n",
    "\n",
    "    res[strong_i, strong_j] = strong\n",
    "    res[weak_i, weak_j] = weak\n",
    "\n",
    "    return (res)\n",
    "\n",
    "def hysterisis(img: np.ndarray, strong_pix: Optional[float]=255., weak_pix: Optional[float]=75):\n",
    "    M, N = img.shape\n",
    "    weak = np.int32(weak_pix)\n",
    "    strong = np.int32(strong_pix)  \n",
    "    for i in range(1, M-1):\n",
    "        for j in range(1, N-1):\n",
    "            if (img[i,j] == weak):\n",
    "                try:\n",
    "                    if ((img[i+1, j-1] == strong) or (img[i+1, j] == strong) or (img[i+1, j+1] == strong)\n",
    "                        or (img[i, j-1] == strong) or (img[i, j+1] == strong)\n",
    "                        or (img[i-1, j-1] == strong) or (img[i-1, j] == strong) or (img[i-1, j+1] == strong)):\n",
    "                        img[i, j] = strong\n",
    "                    else:\n",
    "                        img[i, j] = 0\n",
    "                except IndexError as e:\n",
    "                    pass\n",
    "    return img\n",
    "\n",
    "\n",
    "def canny_edge(image: np.ndarray, with_hysterisis: Optional[bool]=False, **kwargs):\n",
    "    horizontal, vertical, neutral, degrees = Sobel_Filter(image)\n",
    "\n",
    "    suppressed = non_max_suppression(neutral, degrees)\n",
    "    threshold_applied = threshold(suppressed, **kwargs)\n",
    "    if with_hysterisis:\n",
    "        try:\n",
    "            return hysterisis(threshold_applied, **kwargs)\n",
    "        except:\n",
    "            return hysterisis(threshold_applied, strong_pix=kwargs.get(\"strong_pix\"), weak_pix=kwargs.get(\"weak_pix\"))\n",
    "    \n",
    "    else:\n",
    "        return threshold_applied"
   ]
  },
  {
   "cell_type": "markdown",
   "metadata": {},
   "source": [
    "**Without Hysterisis**\n",
    "---"
   ]
  },
  {
   "cell_type": "code",
   "execution_count": 11,
   "metadata": {},
   "outputs": [],
   "source": [
    "im2_ = cv.imread(f\"{path_to_ims}/image1.jpg\")\n",
    "# convert to grayscale\n",
    "gim2 = cv.cvtColor(im2_, cv.COLOR_BGR2GRAY)\n",
    "\n",
    "canny_edge_im = canny_edge(gim2, weak_pix=200, strong_pix=255)\n",
    "\n",
    "im2 = np.zeros_like(im2_)\n",
    "im2[:,:,0] = canny_edge_im # To display the image correctly you'll need to send the grey channel to each of the three image channels\n",
    "im2[:,:,1] = canny_edge_im\n",
    "im2[:,:,2] = canny_edge_im\n",
    "plt.imshow(im2)"
   ]
  },
  {
   "cell_type": "code",
   "execution_count": 5,
   "metadata": {},
   "outputs": [
    {
     "data": {
      "text/plain": [
       "<matplotlib.image.AxesImage at 0x7fe9e4f452a0>"
      ]
     },
     "execution_count": 5,
     "metadata": {},
     "output_type": "execute_result"
    }
   ],
   "source": [
    "plt.imshow(canny_edge_im)"
   ]
  },
  {
   "cell_type": "markdown",
   "metadata": {},
   "source": [
    "**With Hysterisis**\n",
    "---"
   ]
  },
  {
   "cell_type": "code",
   "execution_count": 6,
   "metadata": {},
   "outputs": [
    {
     "name": "stdout",
     "output_type": "stream",
     "text": [
      "Horizontal Range: (0.0, 1.0)\n",
      "Vertical Range: (0.0, 1.0)\n"
     ]
    },
    {
     "name": "stderr",
     "output_type": "stream",
     "text": [
      "/tmp/ipykernel_37601/263653068.py:64: RuntimeWarning: divide by zero encountered in divide\n",
      "  angles = np.degrees(np.arctan(outputVN / outputHN))\n",
      "/tmp/ipykernel_37601/263653068.py:64: RuntimeWarning: invalid value encountered in divide\n",
      "  angles = np.degrees(np.arctan(outputVN / outputHN))\n"
     ]
    },
    {
     "data": {
      "text/plain": [
       "<matplotlib.image.AxesImage at 0x7fe9e89b9870>"
      ]
     },
     "execution_count": 6,
     "metadata": {},
     "output_type": "execute_result"
    }
   ],
   "source": [
    "im2_ = cv.imread(f\"{path_to_ims}/image1.jpg\")\n",
    "# convert to grayscale\n",
    "gim2 = cv.cvtColor(im2_, cv.COLOR_BGR2GRAY)\n",
    "\n",
    "canny_edge_im = canny_edge(gim2, with_hysterisis=True, weak_pix=200, strong_pix=255)\n",
    "\n",
    "im2 = np.zeros_like(im2_)\n",
    "im2[:,:,0] = canny_edge_im # To display the image correctly you'll need to send the grey channel to each of the three image channels\n",
    "im2[:,:,1] = canny_edge_im\n",
    "im2[:,:,2] = canny_edge_im\n",
    "plt.imshow(im2)"
   ]
  },
  {
   "cell_type": "code",
   "execution_count": 7,
   "metadata": {},
   "outputs": [
    {
     "data": {
      "text/plain": [
       "<matplotlib.image.AxesImage at 0x7fe9e4f46830>"
      ]
     },
     "execution_count": 7,
     "metadata": {},
     "output_type": "execute_result"
    }
   ],
   "source": [
    "plt.imshow(canny_edge_im)"
   ]
  }
 ],
 "metadata": {
  "kernelspec": {
   "display_name": "AI-3.10",
   "language": "python",
   "name": "python3"
  },
  "language_info": {
   "codemirror_mode": {
    "name": "ipython",
    "version": 3
   },
   "file_extension": ".py",
   "mimetype": "text/x-python",
   "name": "python",
   "nbconvert_exporter": "python",
   "pygments_lexer": "ipython3",
   "version": "3.10.14"
  }
 },
 "nbformat": 4,
 "nbformat_minor": 2
}
