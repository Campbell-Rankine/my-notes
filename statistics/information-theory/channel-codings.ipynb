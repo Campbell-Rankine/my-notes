{
 "cells": [
  {
   "cell_type": "code",
   "execution_count": null,
   "metadata": {},
   "outputs": [],
   "source": [
    "import matplotlib.pyplot as plt\n",
    "%matplotlib inline\n",
    "from IPython.display import Image"
   ]
  },
  {
   "cell_type": "markdown",
   "metadata": {},
   "source": [
    "<h1 style=\"text-align:center; bold\">\n",
    "Information Theory: Lossless Compression\n",
    "</h1>\n",
    "\n",
    "<p style=\"text-align:center;\">&nbsp Information Theory is a field comprised of elements from mathematics, statistics, signal processing, and computer science. It was\n",
    "developed by Claude Shannon to handle signal communications between a theoretical sender, reciever, channel and medium.</p>\n",
    "\n",
    "<br>"
   ]
  },
  {
   "cell_type": "markdown",
   "metadata": {},
   "source": [
    "**Channel Codings**\n",
    "---"
   ]
  }
 ],
 "metadata": {
  "language_info": {
   "name": "python"
  }
 },
 "nbformat": 4,
 "nbformat_minor": 2
}
