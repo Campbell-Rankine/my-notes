{
 "cells": [
  {
   "cell_type": "code",
   "execution_count": 1,
   "metadata": {},
   "outputs": [],
   "source": [
    "import matplotlib.pyplot as plt\n",
    "%matplotlib inline\n",
    "from IPython.display import Image"
   ]
  },
  {
   "cell_type": "markdown",
   "metadata": {},
   "source": [
    "**Random Walks**\n",
    "---\n",
    "\n",
    "  - Describe the path some particle p takes if the cdf of the distribution of the position of the particle exists.\n",
    "  - We can consider a random walk over the X-Y plane below, where the path P is given by the set of points: $P_i := (X_i, Y_i)$\n",
    "  - Sampling a walk is a stochastic process where $P(X_i \\mid X_{i-1}, X_{i-2}, ..., X_{0}), P(Y_i \\mid Y_{i-1}, Y_{i-2}, ..., Y_{0})$ is the probability of each possible move.\n",
    "  - We can use fundamentals of statistics to break the walk into it's individual points using the chain-rule"
   ]
  },
  {
   "cell_type": "markdown",
   "metadata": {},
   "source": [
    "**Truly Random Walks**\n",
    "---\n",
    "\n",
    "A truly random walk will not depend on the previous states, and instead each position will be an independent trial. Therefore there honestly isn't much else to talk about here. \n",
    "\n",
    "![Signal Communication](./resources/rand_2D.gif)"
   ]
  },
  {
   "cell_type": "markdown",
   "metadata": {},
   "source": [
    "**Properties of Random Walks**\n",
    "---\n",
    "\n",
    "  - Symmetry: Probabilities of ending up in location 1 and location 2 are equivalent $\\forall i \\epsilon N \\rightarrow$ $i \\epsilon \\mathbb{I}^N$, $j \\epsilon \\mathbb{I}^N$\n",
    "  - Expectations: You can take an expectation on a random walk as we can abstractly consider a random walk a probability distribution over positions.\n",
    "  - Markov Chain: Any 1 dimensional random walk can be converted/looked at as a Markov Chain. (I.E. They have steady states)\n",
    "  - Information Rate: A prbabilistic measurement of the information contained at each timestep t in the walk.\n",
    "  - Resistence: How much information we lost by moving $P_i$ $\\rightarrow$ $P_{i+1}$\n",
    "  - Transience: A transient random walk implies that for each position, the resistance between any point and infinity is a finite number."
   ]
  }
 ],
 "metadata": {
  "kernelspec": {
   "display_name": "AI-3.11",
   "language": "python",
   "name": "python3"
  },
  "language_info": {
   "codemirror_mode": {
    "name": "ipython",
    "version": 3
   },
   "file_extension": ".py",
   "mimetype": "text/x-python",
   "name": "python",
   "nbconvert_exporter": "python",
   "pygments_lexer": "ipython3",
   "version": "3.10.14"
  }
 },
 "nbformat": 4,
 "nbformat_minor": 2
}
