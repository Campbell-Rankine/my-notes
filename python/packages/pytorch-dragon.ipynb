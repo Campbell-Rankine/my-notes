{
 "cells": [
  {
   "cell_type": "code",
   "execution_count": 1,
   "metadata": {},
   "outputs": [
    {
     "data": {
      "text/plain": [
       "['Requirement already satisfied: pytorch-dragon in /home/campbell/.local/lib/python3.10/site-packages (0.2.4)',\n",
       " 'Requirement already satisfied: setuptools>=61.0 in /home/campbell/.local/lib/python3.10/site-packages (from pytorch-dragon) (75.1.0)',\n",
       " 'Requirement already satisfied: validators in /home/campbell/.local/lib/python3.10/site-packages (from pytorch-dragon) (0.34.0)',\n",
       " 'Requirement already satisfied: beautifulsoup4 in /home/campbell/.local/lib/python3.10/site-packages (from pytorch-dragon) (4.12.3)',\n",
       " 'Requirement already satisfied: opencv-python in /home/campbell/.local/lib/python3.10/site-packages (from pytorch-dragon) (4.10.0.84)',\n",
       " 'Requirement already satisfied: numpy in /home/campbell/anaconda3/envs/AI-3.10/lib/python3.10/site-packages (from pytorch-dragon) (1.26.4)',\n",
       " 'Requirement already satisfied: numba in /home/campbell/.local/lib/python3.10/site-packages (from pytorch-dragon) (0.60.0)',\n",
       " 'Requirement already satisfied: torch==2.2.2 in /home/campbell/.local/lib/python3.10/site-packages (from pytorch-dragon) (2.2.2)',\n",
       " 'Requirement already satisfied: psutil in /home/campbell/anaconda3/envs/AI-3.10/lib/python3.10/site-packages (from pytorch-dragon) (5.9.0)',\n",
       " 'Requirement already satisfied: typing in /home/campbell/.local/lib/python3.10/site-packages (from pytorch-dragon) (3.7.4.3)',\n",
       " 'Requirement already satisfied: datetime in /home/campbell/.local/lib/python3.10/site-packages (from pytorch-dragon) (5.5)',\n",
       " 'Requirement already satisfied: gpytorch in /home/campbell/.local/lib/python3.10/site-packages (from pytorch-dragon) (1.12)',\n",
       " 'Requirement already satisfied: botorch in /home/campbell/.local/lib/python3.10/site-packages (from pytorch-dragon) (0.11.3)',\n",
       " 'Requirement already satisfied: scikit-learn in /home/campbell/.local/lib/python3.10/site-packages (from pytorch-dragon) (1.5.1)',\n",
       " 'Requirement already satisfied: scipy in /home/campbell/.local/lib/python3.10/site-packages (from pytorch-dragon) (1.14.0)',\n",
       " 'Requirement already satisfied: torchvision in /home/campbell/.local/lib/python3.10/site-packages (from pytorch-dragon) (0.17.2)',\n",
       " 'Requirement already satisfied: matplotlib in /home/campbell/.local/lib/python3.10/site-packages (from pytorch-dragon) (3.9.2)',\n",
       " 'Requirement already satisfied: requests-html in /home/campbell/.local/lib/python3.10/site-packages (from pytorch-dragon) (0.10.0)',\n",
       " 'Requirement already satisfied: pandas in /home/campbell/.local/lib/python3.10/site-packages (from pytorch-dragon) (2.2.2)',\n",
       " 'Requirement already satisfied: filelock in /home/campbell/.local/lib/python3.10/site-packages (from torch==2.2.2->pytorch-dragon) (3.15.4)',\n",
       " 'Requirement already satisfied: typing-extensions>=4.8.0 in /home/campbell/.local/lib/python3.10/site-packages (from torch==2.2.2->pytorch-dragon) (4.12.2)',\n",
       " 'Requirement already satisfied: sympy in /home/campbell/anaconda3/envs/AI-3.10/lib/python3.10/site-packages (from torch==2.2.2->pytorch-dragon) (1.12)',\n",
       " 'Requirement already satisfied: networkx in /home/campbell/anaconda3/envs/AI-3.10/lib/python3.10/site-packages (from torch==2.2.2->pytorch-dragon) (3.2.1)',\n",
       " 'Requirement already satisfied: jinja2 in /home/campbell/.local/lib/python3.10/site-packages (from torch==2.2.2->pytorch-dragon) (3.1.2)',\n",
       " 'Requirement already satisfied: fsspec in /home/campbell/.local/lib/python3.10/site-packages (from torch==2.2.2->pytorch-dragon) (2024.6.1)',\n",
       " 'Requirement already satisfied: nvidia-cuda-nvrtc-cu12==12.1.105 in /home/campbell/.local/lib/python3.10/site-packages (from torch==2.2.2->pytorch-dragon) (12.1.105)',\n",
       " 'Requirement already satisfied: nvidia-cuda-runtime-cu12==12.1.105 in /home/campbell/.local/lib/python3.10/site-packages (from torch==2.2.2->pytorch-dragon) (12.1.105)',\n",
       " 'Requirement already satisfied: nvidia-cuda-cupti-cu12==12.1.105 in /home/campbell/.local/lib/python3.10/site-packages (from torch==2.2.2->pytorch-dragon) (12.1.105)',\n",
       " 'Requirement already satisfied: nvidia-cudnn-cu12==8.9.2.26 in /home/campbell/.local/lib/python3.10/site-packages (from torch==2.2.2->pytorch-dragon) (8.9.2.26)',\n",
       " 'Requirement already satisfied: nvidia-cublas-cu12==12.1.3.1 in /home/campbell/.local/lib/python3.10/site-packages (from torch==2.2.2->pytorch-dragon) (12.1.3.1)',\n",
       " 'Requirement already satisfied: nvidia-cufft-cu12==11.0.2.54 in /home/campbell/.local/lib/python3.10/site-packages (from torch==2.2.2->pytorch-dragon) (11.0.2.54)',\n",
       " 'Requirement already satisfied: nvidia-curand-cu12==10.3.2.106 in /home/campbell/.local/lib/python3.10/site-packages (from torch==2.2.2->pytorch-dragon) (10.3.2.106)',\n",
       " 'Requirement already satisfied: nvidia-cusolver-cu12==11.4.5.107 in /home/campbell/.local/lib/python3.10/site-packages (from torch==2.2.2->pytorch-dragon) (11.4.5.107)',\n",
       " 'Requirement already satisfied: nvidia-cusparse-cu12==12.1.0.106 in /home/campbell/.local/lib/python3.10/site-packages (from torch==2.2.2->pytorch-dragon) (12.1.0.106)',\n",
       " 'Requirement already satisfied: nvidia-nccl-cu12==2.19.3 in /home/campbell/.local/lib/python3.10/site-packages (from torch==2.2.2->pytorch-dragon) (2.19.3)',\n",
       " 'Requirement already satisfied: nvidia-nvtx-cu12==12.1.105 in /home/campbell/anaconda3/envs/AI-3.10/lib/python3.10/site-packages (from torch==2.2.2->pytorch-dragon) (12.1.105)',\n",
       " 'Requirement already satisfied: triton==2.2.0 in /home/campbell/.local/lib/python3.10/site-packages (from torch==2.2.2->pytorch-dragon) (2.2.0)',\n",
       " 'Requirement already satisfied: nvidia-nvjitlink-cu12 in /home/campbell/.local/lib/python3.10/site-packages (from nvidia-cusolver-cu12==11.4.5.107->torch==2.2.2->pytorch-dragon) (12.3.101)',\n",
       " 'Requirement already satisfied: soupsieve>1.2 in /home/campbell/anaconda3/envs/AI-3.10/lib/python3.10/site-packages (from beautifulsoup4->pytorch-dragon) (2.5)',\n",
       " 'Requirement already satisfied: multipledispatch in /home/campbell/.local/lib/python3.10/site-packages (from botorch->pytorch-dragon) (1.0.0)',\n",
       " 'Requirement already satisfied: mpmath<=1.3,>=0.19 in /home/campbell/anaconda3/envs/AI-3.10/lib/python3.10/site-packages (from botorch->pytorch-dragon) (1.3.0)',\n",
       " 'Requirement already satisfied: pyro-ppl>=1.8.4 in /home/campbell/.local/lib/python3.10/site-packages (from botorch->pytorch-dragon) (1.9.1)',\n",
       " 'Requirement already satisfied: linear-operator==0.5.2 in /home/campbell/.local/lib/python3.10/site-packages (from botorch->pytorch-dragon) (0.5.2)',\n",
       " 'Requirement already satisfied: jaxtyping>=0.2.9 in /home/campbell/.local/lib/python3.10/site-packages (from linear-operator==0.5.2->botorch->pytorch-dragon) (0.2.33)',\n",
       " 'Requirement already satisfied: typeguard~=2.13.3 in /home/campbell/.local/lib/python3.10/site-packages (from linear-operator==0.5.2->botorch->pytorch-dragon) (2.13.3)',\n",
       " 'Requirement already satisfied: zope.interface in /home/campbell/.local/lib/python3.10/site-packages (from datetime->pytorch-dragon) (7.0.3)',\n",
       " 'Requirement already satisfied: pytz in /home/campbell/anaconda3/envs/AI-3.10/lib/python3.10/site-packages (from datetime->pytorch-dragon) (2024.1)',\n",
       " 'Requirement already satisfied: contourpy>=1.0.1 in /home/campbell/.local/lib/python3.10/site-packages (from matplotlib->pytorch-dragon) (1.3.0)',\n",
       " 'Requirement already satisfied: cycler>=0.10 in /home/campbell/.local/lib/python3.10/site-packages (from matplotlib->pytorch-dragon) (0.12.1)',\n",
       " 'Requirement already satisfied: fonttools>=4.22.0 in /home/campbell/.local/lib/python3.10/site-packages (from matplotlib->pytorch-dragon) (4.53.1)',\n",
       " 'Requirement already satisfied: kiwisolver>=1.3.1 in /home/campbell/.local/lib/python3.10/site-packages (from matplotlib->pytorch-dragon) (1.4.7)',\n",
       " 'Requirement already satisfied: packaging>=20.0 in /home/campbell/anaconda3/envs/AI-3.10/lib/python3.10/site-packages (from matplotlib->pytorch-dragon) (23.2)',\n",
       " 'Requirement already satisfied: pillow>=8 in /home/campbell/anaconda3/envs/AI-3.10/lib/python3.10/site-packages (from matplotlib->pytorch-dragon) (10.3.0)',\n",
       " 'Requirement already satisfied: pyparsing>=2.3.1 in /home/campbell/anaconda3/envs/AI-3.10/lib/python3.10/site-packages (from matplotlib->pytorch-dragon) (3.0.9)',\n",
       " 'Requirement already satisfied: python-dateutil>=2.7 in /home/campbell/anaconda3/envs/AI-3.10/lib/python3.10/site-packages (from matplotlib->pytorch-dragon) (2.9.0.post0)',\n",
       " 'Requirement already satisfied: llvmlite<0.44,>=0.43.0dev0 in /home/campbell/.local/lib/python3.10/site-packages (from numba->pytorch-dragon) (0.43.0)',\n",
       " 'Requirement already satisfied: tzdata>=2022.7 in /home/campbell/anaconda3/envs/AI-3.10/lib/python3.10/site-packages (from pandas->pytorch-dragon) (2023.3)',\n",
       " 'Requirement already satisfied: requests in /home/campbell/.local/lib/python3.10/site-packages (from requests-html->pytorch-dragon) (2.32.3)',\n",
       " 'Requirement already satisfied: pyquery in /home/campbell/.local/lib/python3.10/site-packages (from requests-html->pytorch-dragon) (2.0.1)',\n",
       " 'Requirement already satisfied: fake-useragent in /home/campbell/anaconda3/envs/AI-3.10/lib/python3.10/site-packages (from requests-html->pytorch-dragon) (1.5.1)',\n",
       " 'Requirement already satisfied: parse in /home/campbell/anaconda3/envs/AI-3.10/lib/python3.10/site-packages (from requests-html->pytorch-dragon) (1.20.2)',\n",
       " 'Requirement already satisfied: bs4 in /home/campbell/.local/lib/python3.10/site-packages (from requests-html->pytorch-dragon) (0.0.2)',\n",
       " 'Requirement already satisfied: w3lib in /home/campbell/anaconda3/envs/AI-3.10/lib/python3.10/site-packages (from requests-html->pytorch-dragon) (2.1.2)',\n",
       " 'Requirement already satisfied: pyppeteer>=0.0.14 in /home/campbell/.local/lib/python3.10/site-packages (from requests-html->pytorch-dragon) (2.0.0)',\n",
       " 'Requirement already satisfied: joblib>=1.2.0 in /home/campbell/.local/lib/python3.10/site-packages (from scikit-learn->pytorch-dragon) (1.4.2)',\n",
       " 'Requirement already satisfied: threadpoolctl>=3.1.0 in /home/campbell/.local/lib/python3.10/site-packages (from scikit-learn->pytorch-dragon) (3.5.0)',\n",
       " 'Requirement already satisfied: appdirs<2.0.0,>=1.4.3 in /home/campbell/anaconda3/envs/AI-3.10/lib/python3.10/site-packages (from pyppeteer>=0.0.14->requests-html->pytorch-dragon) (1.4.4)',\n",
       " 'Requirement already satisfied: certifi>=2023 in /home/campbell/.local/lib/python3.10/site-packages (from pyppeteer>=0.0.14->requests-html->pytorch-dragon) (2024.7.4)',\n",
       " 'Requirement already satisfied: importlib-metadata>=1.4 in /home/campbell/anaconda3/envs/AI-3.10/lib/python3.10/site-packages (from pyppeteer>=0.0.14->requests-html->pytorch-dragon) (7.0.1)',\n",
       " 'Requirement already satisfied: pyee<12.0.0,>=11.0.0 in /home/campbell/.local/lib/python3.10/site-packages (from pyppeteer>=0.0.14->requests-html->pytorch-dragon) (11.1.1)',\n",
       " 'Requirement already satisfied: tqdm<5.0.0,>=4.42.1 in /home/campbell/anaconda3/envs/AI-3.10/lib/python3.10/site-packages (from pyppeteer>=0.0.14->requests-html->pytorch-dragon) (4.66.4)',\n",
       " 'Requirement already satisfied: urllib3<2.0.0,>=1.25.8 in /home/campbell/anaconda3/envs/AI-3.10/lib/python3.10/site-packages (from pyppeteer>=0.0.14->requests-html->pytorch-dragon) (1.26.19)',\n",
       " 'Requirement already satisfied: websockets<11.0,>=10.0 in /home/campbell/anaconda3/envs/AI-3.10/lib/python3.10/site-packages (from pyppeteer>=0.0.14->requests-html->pytorch-dragon) (10.4)',\n",
       " 'Requirement already satisfied: opt-einsum>=2.3.2 in /home/campbell/.local/lib/python3.10/site-packages (from pyro-ppl>=1.8.4->botorch->pytorch-dragon) (3.3.0)',\n",
       " 'Requirement already satisfied: pyro-api>=0.1.1 in /home/campbell/.local/lib/python3.10/site-packages (from pyro-ppl>=1.8.4->botorch->pytorch-dragon) (0.1.2)',\n",
       " 'Requirement already satisfied: six>=1.5 in /home/campbell/anaconda3/envs/AI-3.10/lib/python3.10/site-packages (from python-dateutil>=2.7->matplotlib->pytorch-dragon) (1.16.0)',\n",
       " 'Requirement already satisfied: MarkupSafe>=2.0 in /home/campbell/.local/lib/python3.10/site-packages (from jinja2->torch==2.2.2->pytorch-dragon) (2.1.2)',\n",
       " 'Requirement already satisfied: lxml>=2.1 in /home/campbell/.local/lib/python3.10/site-packages (from pyquery->requests-html->pytorch-dragon) (5.3.0)',\n",
       " 'Requirement already satisfied: cssselect>=1.2.0 in /home/campbell/.local/lib/python3.10/site-packages (from pyquery->requests-html->pytorch-dragon) (1.2.0)',\n",
       " 'Requirement already satisfied: charset-normalizer<4,>=2 in /home/campbell/.local/lib/python3.10/site-packages (from requests->requests-html->pytorch-dragon) (3.3.2)',\n",
       " 'Requirement already satisfied: idna<4,>=2.5 in /home/campbell/.local/lib/python3.10/site-packages (from requests->requests-html->pytorch-dragon) (3.7)',\n",
       " 'Requirement already satisfied: zipp>=0.5 in /home/campbell/anaconda3/envs/AI-3.10/lib/python3.10/site-packages (from importlib-metadata>=1.4->pyppeteer>=0.0.14->requests-html->pytorch-dragon) (3.17.0)']"
      ]
     },
     "execution_count": 1,
     "metadata": {},
     "output_type": "execute_result"
    }
   ],
   "source": [
    "!!pip install --upgrade pytorch-dragon # Update to most recent deployment"
   ]
  },
  {
   "cell_type": "markdown",
   "metadata": {},
   "source": [
    "**Deploying a Package**\n",
    "---\n",
    "\n",
    "1. Log into PyPI and create github repo / setup.py. See pytorch-dragon for an example.\n",
    "2. run python setup.py bdist_wheel with the example setup.py file\n",
    "3. run pip install twine\n",
    "4. run twine upload dist/* and Login. After this the package is updated\n",
    "5. make sure to init all subdirectories"
   ]
  },
  {
   "cell_type": "code",
   "execution_count": 2,
   "metadata": {},
   "outputs": [],
   "source": [
    "# package imports\n",
    "import torch as T\n",
    "import numpy as np\n",
    "from typing import Optional\n",
    "\n",
    "import cv2 as cv\n",
    "import numpy as np\n",
    "from timeit import default_timer as timer"
   ]
  },
  {
   "cell_type": "code",
   "execution_count": 3,
   "metadata": {},
   "outputs": [],
   "source": [
    "# PyPI testing\n",
    "import pytorch_dragon as dragon\n",
    "from pytorch_dragon.pytorch_dragon import sobel_filter"
   ]
  },
  {
   "cell_type": "markdown",
   "metadata": {},
   "source": [
    "**pytorch_dragon : Package**\n",
    "---\n",
    "\n",
    "Now you just need to import your packages with the commands above and we can run code from our package."
   ]
  },
  {
   "cell_type": "code",
   "execution_count": 5,
   "metadata": {},
   "outputs": [
    {
     "name": "stdout",
     "output_type": "stream",
     "text": [
      "Starting CUDA Sobel Filter calc\n",
      "CUDA Sobel Filter calculation took: 3.22s\n"
     ]
    },
    {
     "name": "stderr",
     "output_type": "stream",
     "text": [
      "/home/campbell/.local/lib/python3.10/site-packages/numba/cuda/cudadrv/devicearray.py:888: NumbaPerformanceWarning: \u001b[1mHost array used in CUDA kernel will incur copy overhead to/from device.\u001b[0m\n",
      "  warn(NumbaPerformanceWarning(msg))\n"
     ]
    }
   ],
   "source": [
    "path_to_ims = \"../cuda/numba-cuda-11.8/\"\n",
    "# CPU block\n",
    "im1 = cv.imread(f\"{path_to_ims}/image1.jpg\")\n",
    "# convert to grayscale\n",
    "gim1 = cv.cvtColor(im1, cv.COLOR_BGR2GRAY)\n",
    "im2 = np.zeros_like(im1)\n",
    "im2[:, :, 0] = (\n",
    "    gim1  # To display the image correctly you'll need to send the grey channel to each of the three image channels\n",
    ")\n",
    "im2[:, :, 1] = gim1\n",
    "im2[:, :, 2] = gim1\n",
    "\n",
    "# cuda\n",
    "print(\"Starting CUDA Sobel Filter calc\")\n",
    "\n",
    "start = timer()\n",
    "output = sobel_filter(gim1, kernel_size=3)\n",
    "end = timer()\n",
    "print(f\"CUDA Sobel Filter calculation took: {round(end-start, 2)}s\")\n",
    "assert end - start < 10.0"
   ]
  },
  {
   "cell_type": "code",
   "execution_count": null,
   "metadata": {},
   "outputs": [],
   "source": []
  }
 ],
 "metadata": {
  "kernelspec": {
   "display_name": "AI-3.10",
   "language": "python",
   "name": "python3"
  },
  "language_info": {
   "codemirror_mode": {
    "name": "ipython",
    "version": 3
   },
   "file_extension": ".py",
   "mimetype": "text/x-python",
   "name": "python",
   "nbconvert_exporter": "python",
   "pygments_lexer": "ipython3",
   "version": "3.10.14"
  }
 },
 "nbformat": 4,
 "nbformat_minor": 2
}
