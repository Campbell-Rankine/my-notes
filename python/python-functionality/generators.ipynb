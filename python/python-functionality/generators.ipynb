{
 "cells": [
  {
   "cell_type": "markdown",
   "metadata": {},
   "source": [
    "# Python Generators\n",
    "---\n",
    "\n",
    "Python generators allow you to define behaviour within a loop assuming you want to run a set of code over a list of inputs. Think of this as defining behaviour over a set of Iterable inputs. Any python generator implement the iterable protocol.\n",
    "\n",
    "### The iterator protocol\n",
    "\n",
    "To implement the protocol, check if iterable. Check to make sure input is iterable. Ask for the next input. Run the function body (yield x). Under the hood you can picture it working by sleeping the function until the next calculation is required. As it sounds it's essentially just a lazy way of operating over an Iterable."
   ]
  },
  {
   "cell_type": "markdown",
   "metadata": {},
   "source": [
    "## Example 1:\n",
    "---\n",
    "Below is a very simple generator. The while True part of the function essentially defines that this can be ran indefinitely. Next we increment n and yield the result. To iterate across the outputs of the generator we can use the next() function"
   ]
  },
  {
   "cell_type": "code",
   "execution_count": 10,
   "metadata": {},
   "outputs": [
    {
     "name": "stdout",
     "output_type": "stream",
     "text": [
      "2\n",
      "3\n",
      "4\n"
     ]
    }
   ],
   "source": [
    "# The simplest generator\n",
    "def next_number(n: int):\n",
    "    while True:\n",
    "        n = n+1\n",
    "        yield n\n",
    "\n",
    "# Define generator object + starting postition\n",
    "counter = next_number(1)\n",
    "\n",
    "# next(GENERATOR) will yield the next value in the sequence\n",
    "print(next(counter))\n",
    "print(next(counter))\n",
    "print(next(counter))"
   ]
  },
  {
   "cell_type": "markdown",
   "metadata": {},
   "source": [
    "# Example 2:\n",
    "---\n",
    "The next example function will be the fibonacci sequence generator. It follows a similar process to next_number but we can define some private input numbers that will allow the function to store some data. This function will include the ability to stop. Meaning we can use this as a for loop or a dynamic length generator."
   ]
  },
  {
   "cell_type": "code",
   "execution_count": 14,
   "metadata": {},
   "outputs": [
    {
     "name": "stdout",
     "output_type": "stream",
     "text": [
      "0\n",
      "1\n",
      "1\n",
      "2\n"
     ]
    }
   ],
   "source": [
    "# fibonnacci generator\n",
    "from typing import Optional\n",
    "\n",
    "def fib(stop: Optional[int]=-1):\n",
    "    iterations = 0\n",
    "    # Some data inside our generator\n",
    "    fibb0 = 0\n",
    "    fibb1 = 1\n",
    "    # Stop functionality (equivalent to if stop == -1 ... else ...)\n",
    "    match stop:\n",
    "        case -1:\n",
    "            while True:\n",
    "                yield fibb0\n",
    "                fibb0, fibb1 = fibb1, fibb0+fibb1 # fibbonacci formula\n",
    "                iterations += 1\n",
    "        case _:\n",
    "            while iterations < stop:\n",
    "                yield fibb0\n",
    "                fibb0, fibb1 = fibb1, fibb0+fibb1 # fibbonacci formula\n",
    "                iterations += 1\n",
    "\n",
    "# Define generator object (indefinite) and print the first 4 numbers\n",
    "fibb_gen = fib()\n",
    "for _ in range(4): \n",
    "    print(next(fibb_gen))"
   ]
  },
  {
   "cell_type": "markdown",
   "metadata": {},
   "source": [
    "### Additional notes for example 2:\n",
    "\n",
    "It is important to note, if you were to print(list(fibb_gen)) the code would never throw the stop flag that tells the generator to stop. This is because it waits for an exception, however while True will never throw an exception"
   ]
  },
  {
   "cell_type": "code",
   "execution_count": 18,
   "metadata": {},
   "outputs": [
    {
     "name": "stdout",
     "output_type": "stream",
     "text": [
      "0\n",
      "1\n",
      "1\n",
      "2\n",
      "3\n",
      "5\n",
      "[0, 1, 1, 2, 3, 5]\n"
     ]
    }
   ],
   "source": [
    "# Define generator object with stop flag\n",
    "\n",
    "print(list(fib(stop=6)))"
   ]
  },
  {
   "cell_type": "markdown",
   "metadata": {},
   "source": [
    "# Generator Methods and Functionality\n",
    "---\n",
    "\n",
    "  1. generator.send(x) - send input data x to the generator (I.E. \"123\", [item1, item2])\n",
    "  2. := (walrus operator) - Can be used to essentially define the generator as a microservice python application. Example below"
   ]
  },
  {
   "cell_type": "code",
   "execution_count": 26,
   "metadata": {},
   "outputs": [
    {
     "name": "stdout",
     "output_type": "stream",
     "text": [
      "Hello Adam Sandler\n",
      "Hello Ice Spice\n",
      "denied\n",
      "denied\n",
      "shutdown\n"
     ]
    }
   ],
   "source": [
    "# Example of a python app authentication service using the generator/coroutine architecture\n",
    "def auth():\n",
    "    try:\n",
    "        # output object\n",
    "        output = None\n",
    "\n",
    "        # internal data\n",
    "        users = {1234: \"Adam Sandler\", 5678: \"Donald Glover\", 9012: \"Ice Spice\"}\n",
    "\n",
    "        # Use the walrus operator to define an assignment to uuid from the auth.send function\n",
    "        while uuid := (yield output):\n",
    "            if uuid in users.keys():\n",
    "                output = f\"Hello {users[uuid]}\"\n",
    "            else:\n",
    "                output = \"denied\"\n",
    "    except:\n",
    "        print(\"shutdown\")\n",
    "        output=None\n",
    "\n",
    "# Create microservice\n",
    "app = auth()\n",
    "\n",
    "# prime the app (sending none will not run the app)\n",
    "app.send(None)\n",
    "\n",
    "# query the db\n",
    "print(app.send(1234))\n",
    "print(app.send(9012))\n",
    "print(app.send(\"9012\"))\n",
    "print(app.send(654))\n",
    "\n",
    "#close the service\n",
    "app.close()"
   ]
  }
 ],
 "metadata": {
  "kernelspec": {
   "display_name": "base",
   "language": "python",
   "name": "python3"
  },
  "language_info": {
   "codemirror_mode": {
    "name": "ipython",
    "version": 3
   },
   "file_extension": ".py",
   "mimetype": "text/x-python",
   "name": "python",
   "nbconvert_exporter": "python",
   "pygments_lexer": "ipython3",
   "version": "3.11.5"
  }
 },
 "nbformat": 4,
 "nbformat_minor": 2
}
